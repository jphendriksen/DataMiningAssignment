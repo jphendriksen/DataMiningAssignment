{
 "cells": [
  {
   "cell_type": "code",
   "execution_count": 6,
   "metadata": {},
   "outputs": [
    {
     "name": "stderr",
     "output_type": "stream",
     "text": [
      "/var/folders/nl/l2vlz89j35l_ys23bsrpv_xr0000gn/T/ipykernel_16575/1808229713.py:9: DtypeWarning: Columns (23) have mixed types. Specify dtype option on import or set low_memory=False.\n",
      "  data = pd.read_csv(file_path)\n"
     ]
    },
    {
     "name": "stdout",
     "output_type": "stream",
     "text": [
      "Accuracy: 0.7275182471642453\n",
      "Classification Report:\n",
      "               precision    recall  f1-score   support\n",
      "\n",
      "           0       0.75      0.68      0.71     35963\n",
      "           1       0.71      0.77      0.74     36240\n",
      "\n",
      "    accuracy                           0.73     72203\n",
      "   macro avg       0.73      0.73      0.73     72203\n",
      "weighted avg       0.73      0.73      0.73     72203\n",
      "\n"
     ]
    }
   ],
   "source": [
    "from imblearn.over_sampling import RandomOverSampler\n",
    "from sklearn.model_selection import train_test_split\n",
    "from sklearn.preprocessing import StandardScaler\n",
    "from sklearn.neighbors import KNeighborsClassifier\n",
    "from sklearn.metrics import classification_report, accuracy_score\n",
    "\n",
    "# Load the dataset \n",
    "file_path = '/Users/jean-paulhendriksen/Documents/Data Driven Decision Making in Business/DataMining/Amazon Sale Report.csv'\n",
    "data = pd.read_csv(file_path)\n",
    "data = data.drop(columns=['index', 'Order ID', 'promotion-ids', 'Unnamed: 22'], errors='ignore')\n",
    "data = data.dropna(subset=['Amount', 'Qty', 'Category', 'Status'])\n",
    "\n",
    "# Convert categorical columns to numerical values\n",
    "categorical_columns = [col for col in ['Status', 'Category', 'Sales Channel', 'ship-country'] if col in data.columns]\n",
    "data = pd.get_dummies(data, columns=categorical_columns, drop_first=True)\n",
    "\n",
    "X = data[['Qty', 'Amount'] + [col for col in data.columns if 'Status_' in col or 'Category_' in col]]\n",
    "y = data['B2B'].astype(int)\n",
    "\n",
    "# Apply Random Oversampling\n",
    "oversampler = RandomOverSampler(random_state=42)\n",
    "X_resampled, y_resampled = oversampler.fit_resample(X, y)\n",
    "\n",
    "# Split the resampled data\n",
    "X_train, X_test, y_train, y_test = train_test_split(X_resampled, y_resampled, test_size=0.3, random_state=42)\n",
    "\n",
    "# Scale features and train the KNN model\n",
    "scaler = StandardScaler()\n",
    "X_train = scaler.fit_transform(X_train)\n",
    "X_test = scaler.transform(X_test)\n",
    "\n",
    "knn = KNeighborsClassifier(n_neighbors=5)\n",
    "knn.fit(X_train, y_train)\n",
    "\n",
    "# Evaluate\n",
    "y_pred = knn.predict(X_test)\n",
    "print(\"Accuracy:\", accuracy_score(y_test, y_pred))\n",
    "print(\"Classification Report:\\n\", classification_report(y_test, y_pred))\n"
   ]
  },
  {
   "cell_type": "markdown",
   "metadata": {},
   "source": [
    "\n",
    "\n",
    "1. **Precision**: Indicates how many of the predicted positive samples are actually positive.\n",
    "   - In this case:\n",
    "     - **Class 0 (Non-B2B)**: 75% of the predicted non-B2B labels were correct.\n",
    "     - **Class 1 (B2B)**: 71% of the predicted B2B labels were correct.\n",
    "   \n",
    "2. **Recall**: Measures how many of the actual positive samples were correctly identified by the model.\n",
    "   - Here:\n",
    "     - **Class 0**: The model correctly identified 68% of the actual non-B2B samples.\n",
    "     - **Class 1**: The model correctly identified 77% of the actual B2B samples.\n",
    "\n",
    "3. **F1-Score**: The harmonic mean of precision and recall, providing a single measure of a class's accuracy. It’s useful for imbalanced datasets.\n",
    "   - **Class 0**: 0.71 F1-score, indicating a balanced performance between precision and recall.\n",
    "   - **Class 1**: 0.74 F1-score, also reflecting balanced accuracy.\n",
    "\n",
    "4. **Accuracy**: The overall correctness of the model across all samples (72.75%), combining both classes.\n",
    "\n",
    "5. **Macro Avg**: The unweighted average across classes for precision, recall, and F1-score. It’s useful when class sizes are similar.\n",
    "\n",
    "6. **Weighted Avg**: The weighted average across classes, accounting for class imbalance. Since the classes were balanced, the weighted average here approximates the macro average.\n",
    "\n"
   ]
  }
 ],
 "metadata": {
  "kernelspec": {
   "display_name": "Python 3",
   "language": "python",
   "name": "python3"
  },
  "language_info": {
   "codemirror_mode": {
    "name": "ipython",
    "version": 3
   },
   "file_extension": ".py",
   "mimetype": "text/x-python",
   "name": "python",
   "nbconvert_exporter": "python",
   "pygments_lexer": "ipython3",
   "version": "3.12.6"
  }
 },
 "nbformat": 4,
 "nbformat_minor": 2
}
